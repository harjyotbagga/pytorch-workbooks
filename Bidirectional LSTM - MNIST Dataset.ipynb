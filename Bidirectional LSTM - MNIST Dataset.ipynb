{
 "cells": [
  {
   "cell_type": "code",
   "execution_count": null,
   "metadata": {},
   "outputs": [],
   "source": [
    "import torch\n",
    "import torch.nn as nn\n",
    "import torch.optim as optim\n",
    "from torch.utils.data import DataLoader\n",
    "import torch.nn.functional as F\n",
    "import torchvision.datasets as datasets\n",
    "import torchvision.transforms as transforms"
   ]
  },
  {
   "cell_type": "code",
   "execution_count": null,
   "metadata": {},
   "outputs": [],
   "source": [
    "device = torch.device('cuda' if torch.cuda.is_available() else 'cpu')\n",
    "\n",
    "input_size = 28\n",
    "sequence_length = 28\n",
    "num_layers = 2\n",
    "hidden_size = 256\n",
    "num_classes = 10\n",
    "learning_rate = 0.001\n",
    "batch_size = 100\n",
    "num_epochs = 28"
   ]
  },
  {
   "cell_type": "code",
   "execution_count": null,
   "metadata": {},
   "outputs": [],
   "source": [
    "class BRNN(nn.Module):\n",
    "    def __init__(self, input_size, hidden_size, num_layers, num_classes):\n",
    "        super(BRNN, self).__init__()\n",
    "        self.hidden_size = hidden_size\n",
    "        self.num_layers = num_layers\n",
    "        self.lstm = nn.LSTM(input_size, hidden_size, num_layers, batch_first=True, bidirectional=True)\n",
    "        self.fc = nn.Linear(hidden_size * 2, num_classes)\n",
    "\n",
    "    def forward(self, x):\n",
    "        h0 = torch.zeros(self.num_layers * 2, x.size(0), self.hidden_size).to(device)\n",
    "        c0 = torch.zeros(self.num_layers * 2, x.size(0), self.hidden_size).to(device)\n",
    "\n",
    "        out, _ = self.lstm(x, (h0, c0))\n",
    "        out = self.fc(out[:, -1, :])\n",
    "\n",
    "        return out"
   ]
  },
  {
   "cell_type": "code",
   "execution_count": null,
   "metadata": {},
   "outputs": [],
   "source": [
    "train_dataset = datasets.MNIST(root='Data/MNIST-Dataset', train=True, transform=transforms.ToTensor(), download=True)\n",
    "train_loader = DataLoader(dataset=train_dataset, batch_size=batch_size, shuffle=True)\n",
    "test_dataset = datasets.MNIST(root='Data/MNIST-Dataset', train=False, transform=transforms.ToTensor(), download=True)\n",
    "test_loader = DataLoader(dataset=test_dataset, batch_size=batch_size, shuffle=True)"
   ]
  },
  {
   "cell_type": "code",
   "execution_count": null,
   "metadata": {},
   "outputs": [],
   "source": [
    "model = BRNN(input_size, hidden_size, num_layers, num_classes).to(device)\n",
    "loss_function = nn.CrossEntropyLoss()\n",
    "optimizer = optim.Adam(model.parameters(), lr=learning_rate)"
   ]
  },
  {
   "cell_type": "code",
   "execution_count": null,
   "metadata": {},
   "outputs": [],
   "source": [
    "model.train()\n",
    "\n",
    "for epoch in range(num_epochs):\n",
    "    num_samples = 0\n",
    "    num_correct = 0\n",
    "    for batch_idx, (data, targets) in enumerate(train_loader):\n",
    "\n",
    "        # The Dataset gives Nx1x28x28, (1 for the color channel, N for the batch_size)\n",
    "        # But the RNN expects Nx28x28. Therefore, removing the 1 (column of the color channel)\n",
    "        data = data.to(device=device).squeeze(1)\n",
    "        targets = targets.to(device=device)\n",
    "        \n",
    "        predicted_output = model(data)\n",
    "        \n",
    "        _, prediction = predicted_output.max(1)\n",
    "        num_samples += predicted_output.size(0)\n",
    "        num_correct += (prediction==targets).sum()\n",
    "        \n",
    "        loss = loss_function(predicted_output, targets)\n",
    "        optimizer.zero_grad()\n",
    "        loss.backward()\n",
    "        optimizer.step()\n",
    "        \n",
    "        if ((batch_idx+1) % 200 == 0):\n",
    "            print(f'Batch {batch_idx+1}: Accuracy: {num_correct / num_samples * 100.00}')\n",
    "    print(f'Epoch {epoch+1} completed with Accuracy {num_correct / num_samples * 100.00}')\n",
    "    print()\n",
    "print()\n",
    "print(\"Training Completed!\")\n",
    "   "
   ]
  },
  {
   "cell_type": "code",
   "execution_count": null,
   "metadata": {},
   "outputs": [],
   "source": [
    "# Model Testing\n",
    "def check_accuracy(loader, model):\n",
    "    model.eval() # Set model into evaluation mode!\n",
    "    num_samples = 0\n",
    "    num_correct = 0\n",
    "    for data, targets in loader:\n",
    "        data = data.to(device=device).squeeze(1)\n",
    "        targets = targets.to(device=device)\n",
    "        \n",
    "        predicted_output = model(data)\n",
    "        \n",
    "        _, prediction = predicted_output.max(1)\n",
    "        num_samples += predicted_output.size(0)\n",
    "        num_correct += (prediction==targets).sum()\n",
    "\n",
    "    print(f'Correctly identified samples: {num_correct}')\n",
    "    print(f'Total samples: {num_samples}')\n",
    "    print(f'The Validation Accuracy is {num_correct / num_samples * 100.00:.2f}')\n",
    "    model.train() # Setting model back to training data"
   ]
  },
  {
   "cell_type": "code",
   "execution_count": null,
   "metadata": {},
   "outputs": [],
   "source": [
    "print(\"Checking Accuracy on Training Data...\")\n",
    "check_accuracy(train_loader, model)\n",
    "print()\n",
    "print(\"Checking Accuracy on Testing Data...\")\n",
    "check_accuracy(test_loader, model)"
   ]
  },
  {
   "cell_type": "code",
   "execution_count": null,
   "metadata": {},
   "outputs": [],
   "source": []
  }
 ],
 "metadata": {
  "kernelspec": {
   "display_name": "Python 3",
   "language": "python",
   "name": "python3"
  },
  "language_info": {
   "codemirror_mode": {
    "name": "ipython",
    "version": 3
   },
   "file_extension": ".py",
   "mimetype": "text/x-python",
   "name": "python",
   "nbconvert_exporter": "python",
   "pygments_lexer": "ipython3",
   "version": "3.8.5"
  }
 },
 "nbformat": 4,
 "nbformat_minor": 4
}
