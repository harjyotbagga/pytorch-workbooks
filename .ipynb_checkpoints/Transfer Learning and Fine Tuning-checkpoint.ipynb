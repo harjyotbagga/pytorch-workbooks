{
 "cells": [
  {
   "cell_type": "code",
   "execution_count": 1,
   "metadata": {},
   "outputs": [],
   "source": [
    "import torch\n",
    "import torch.nn as nn\n",
    "import torch.optim as optim\n",
    "import torch.nn.functional as F\n",
    "from torch.utils.data import DataLoader\n",
    "import torchvision.datasets as datasets\n",
    "import torchvision.transforms as transforms"
   ]
  },
  {
   "cell_type": "code",
   "execution_count": 2,
   "metadata": {},
   "outputs": [],
   "source": [
    "device = torch.device('cuda' if torch.cuda.is_available() else 'cpu')\n",
    "\n",
    "num_classes = 10\n",
    "learning_rate = 1e-3  # Same as 0.01\n",
    "batch_size = 100\n",
    "num_epochs = 2"
   ]
  },
  {
   "cell_type": "code",
   "execution_count": 3,
   "metadata": {},
   "outputs": [],
   "source": [
    "class  Identity(nn.Module):\n",
    "    def __init__(self):\n",
    "        super(Identity, self).__init__()\n",
    "        \n",
    "    def forward(self, x):\n",
    "        return x"
   ]
  },
  {
   "cell_type": "code",
   "execution_count": 4,
   "metadata": {},
   "outputs": [
    {
     "name": "stdout",
     "output_type": "stream",
     "text": [
      "VGG(\n",
      "  (features): Sequential(\n",
      "    (0): Conv2d(3, 64, kernel_size=(3, 3), stride=(1, 1), padding=(1, 1))\n",
      "    (1): ReLU(inplace=True)\n",
      "    (2): Conv2d(64, 64, kernel_size=(3, 3), stride=(1, 1), padding=(1, 1))\n",
      "    (3): ReLU(inplace=True)\n",
      "    (4): MaxPool2d(kernel_size=2, stride=2, padding=0, dilation=1, ceil_mode=False)\n",
      "    (5): Conv2d(64, 128, kernel_size=(3, 3), stride=(1, 1), padding=(1, 1))\n",
      "    (6): ReLU(inplace=True)\n",
      "    (7): Conv2d(128, 128, kernel_size=(3, 3), stride=(1, 1), padding=(1, 1))\n",
      "    (8): ReLU(inplace=True)\n",
      "    (9): MaxPool2d(kernel_size=2, stride=2, padding=0, dilation=1, ceil_mode=False)\n",
      "    (10): Conv2d(128, 256, kernel_size=(3, 3), stride=(1, 1), padding=(1, 1))\n",
      "    (11): ReLU(inplace=True)\n",
      "    (12): Conv2d(256, 256, kernel_size=(3, 3), stride=(1, 1), padding=(1, 1))\n",
      "    (13): ReLU(inplace=True)\n",
      "    (14): Conv2d(256, 256, kernel_size=(3, 3), stride=(1, 1), padding=(1, 1))\n",
      "    (15): ReLU(inplace=True)\n",
      "    (16): MaxPool2d(kernel_size=2, stride=2, padding=0, dilation=1, ceil_mode=False)\n",
      "    (17): Conv2d(256, 512, kernel_size=(3, 3), stride=(1, 1), padding=(1, 1))\n",
      "    (18): ReLU(inplace=True)\n",
      "    (19): Conv2d(512, 512, kernel_size=(3, 3), stride=(1, 1), padding=(1, 1))\n",
      "    (20): ReLU(inplace=True)\n",
      "    (21): Conv2d(512, 512, kernel_size=(3, 3), stride=(1, 1), padding=(1, 1))\n",
      "    (22): ReLU(inplace=True)\n",
      "    (23): MaxPool2d(kernel_size=2, stride=2, padding=0, dilation=1, ceil_mode=False)\n",
      "    (24): Conv2d(512, 512, kernel_size=(3, 3), stride=(1, 1), padding=(1, 1))\n",
      "    (25): ReLU(inplace=True)\n",
      "    (26): Conv2d(512, 512, kernel_size=(3, 3), stride=(1, 1), padding=(1, 1))\n",
      "    (27): ReLU(inplace=True)\n",
      "    (28): Conv2d(512, 512, kernel_size=(3, 3), stride=(1, 1), padding=(1, 1))\n",
      "    (29): ReLU(inplace=True)\n",
      "    (30): MaxPool2d(kernel_size=2, stride=2, padding=0, dilation=1, ceil_mode=False)\n",
      "  )\n",
      "  (avgpool): AdaptiveAvgPool2d(output_size=(7, 7))\n",
      "  (classifier): Sequential(\n",
      "    (0): Linear(in_features=25088, out_features=4096, bias=True)\n",
      "    (1): ReLU(inplace=True)\n",
      "    (2): Dropout(p=0.5, inplace=False)\n",
      "    (3): Linear(in_features=4096, out_features=4096, bias=True)\n",
      "    (4): ReLU(inplace=True)\n",
      "    (5): Dropout(p=0.5, inplace=False)\n",
      "    (6): Linear(in_features=4096, out_features=1000, bias=True)\n",
      "  )\n",
      ")\n"
     ]
    }
   ],
   "source": [
    "import sys\n",
    "import torchvision\n",
    "model = torchvision.models.vgg16(pretrained=True)\n",
    "print(model)"
   ]
  },
  {
   "cell_type": "code",
   "execution_count": 5,
   "metadata": {},
   "outputs": [
    {
     "name": "stdout",
     "output_type": "stream",
     "text": [
      "VGG(\n",
      "  (features): Sequential(\n",
      "    (0): Conv2d(3, 64, kernel_size=(3, 3), stride=(1, 1), padding=(1, 1))\n",
      "    (1): ReLU(inplace=True)\n",
      "    (2): Conv2d(64, 64, kernel_size=(3, 3), stride=(1, 1), padding=(1, 1))\n",
      "    (3): ReLU(inplace=True)\n",
      "    (4): MaxPool2d(kernel_size=2, stride=2, padding=0, dilation=1, ceil_mode=False)\n",
      "    (5): Conv2d(64, 128, kernel_size=(3, 3), stride=(1, 1), padding=(1, 1))\n",
      "    (6): ReLU(inplace=True)\n",
      "    (7): Conv2d(128, 128, kernel_size=(3, 3), stride=(1, 1), padding=(1, 1))\n",
      "    (8): ReLU(inplace=True)\n",
      "    (9): MaxPool2d(kernel_size=2, stride=2, padding=0, dilation=1, ceil_mode=False)\n",
      "    (10): Conv2d(128, 256, kernel_size=(3, 3), stride=(1, 1), padding=(1, 1))\n",
      "    (11): ReLU(inplace=True)\n",
      "    (12): Conv2d(256, 256, kernel_size=(3, 3), stride=(1, 1), padding=(1, 1))\n",
      "    (13): ReLU(inplace=True)\n",
      "    (14): Conv2d(256, 256, kernel_size=(3, 3), stride=(1, 1), padding=(1, 1))\n",
      "    (15): ReLU(inplace=True)\n",
      "    (16): MaxPool2d(kernel_size=2, stride=2, padding=0, dilation=1, ceil_mode=False)\n",
      "    (17): Conv2d(256, 512, kernel_size=(3, 3), stride=(1, 1), padding=(1, 1))\n",
      "    (18): ReLU(inplace=True)\n",
      "    (19): Conv2d(512, 512, kernel_size=(3, 3), stride=(1, 1), padding=(1, 1))\n",
      "    (20): ReLU(inplace=True)\n",
      "    (21): Conv2d(512, 512, kernel_size=(3, 3), stride=(1, 1), padding=(1, 1))\n",
      "    (22): ReLU(inplace=True)\n",
      "    (23): MaxPool2d(kernel_size=2, stride=2, padding=0, dilation=1, ceil_mode=False)\n",
      "    (24): Conv2d(512, 512, kernel_size=(3, 3), stride=(1, 1), padding=(1, 1))\n",
      "    (25): ReLU(inplace=True)\n",
      "    (26): Conv2d(512, 512, kernel_size=(3, 3), stride=(1, 1), padding=(1, 1))\n",
      "    (27): ReLU(inplace=True)\n",
      "    (28): Conv2d(512, 512, kernel_size=(3, 3), stride=(1, 1), padding=(1, 1))\n",
      "    (29): ReLU(inplace=True)\n",
      "    (30): MaxPool2d(kernel_size=2, stride=2, padding=0, dilation=1, ceil_mode=False)\n",
      "  )\n",
      "  (avgpool): Identity()\n",
      "  (classifier): Sequential(\n",
      "    (0): Linear(in_features=512, out_features=100, bias=True)\n",
      "    (1): ReLU()\n",
      "    (2): Linear(in_features=100, out_features=10, bias=True)\n",
      "  )\n",
      ")\n"
     ]
    }
   ],
   "source": [
    "# Freezing the weights of the model\n",
    "for param in model.parameters():\n",
    "    param.requires_grad = False\n",
    "# Changing the last couple of layers for our dataset\n",
    "model.avgpool = Identity()\n",
    "model.classifier = nn.Sequential(\n",
    "    nn.Linear(512, 100),\n",
    "    nn.ReLU(),\n",
    "    nn.Linear(100, 10)\n",
    ")\n",
    "print(model)"
   ]
  },
  {
   "cell_type": "code",
   "execution_count": 6,
   "metadata": {},
   "outputs": [
    {
     "name": "stdout",
     "output_type": "stream",
     "text": [
      "Files already downloaded and verified\n",
      "Files already downloaded and verified\n"
     ]
    }
   ],
   "source": [
    "model.to(device)\n",
    "\n",
    "train_dataset = datasets.CIFAR10(root='dataset/', train=True, download=True, transform=transforms.ToTensor())\n",
    "train_loader = DataLoader(dataset=train_dataset, batch_size=batch_size, shuffle=True)\n",
    "test_dataset = datasets.CIFAR10(root='dataset/', train=False, download=True, transform=transforms.ToTensor())\n",
    "test_loader = DataLoader(dataset=test_dataset, batch_size=batch_size, shuffle=True)"
   ]
  },
  {
   "cell_type": "code",
   "execution_count": 7,
   "metadata": {},
   "outputs": [],
   "source": [
    "loss_function = nn.CrossEntropyLoss()\n",
    "optimizer = optim.Adam(params=model.parameters(), lr=learning_rate)"
   ]
  },
  {
   "cell_type": "code",
   "execution_count": 8,
   "metadata": {},
   "outputs": [
    {
     "name": "stdout",
     "output_type": "stream",
     "text": [
      "(50000, 32, 32, 3)\n",
      "(10000, 32, 32, 3)\n"
     ]
    }
   ],
   "source": [
    "print(train_dataset.data.shape)\n",
    "print(test_dataset.data.shape)"
   ]
  },
  {
   "cell_type": "code",
   "execution_count": 9,
   "metadata": {},
   "outputs": [
    {
     "name": "stdout",
     "output_type": "stream",
     "text": [
      "Cost at batch 10 is 2.16940\n",
      "Cost at batch 20 is 2.01889\n",
      "Cost at batch 30 is 1.88271\n",
      "Cost at batch 40 is 1.78614\n",
      "Cost at batch 50 is 1.71603\n",
      "Cost at batch 60 is 1.64743\n",
      "Cost at batch 70 is 1.60265\n",
      "Cost at batch 80 is 1.57186\n",
      "Cost at batch 90 is 1.54461\n",
      "Cost at batch 100 is 1.52310\n",
      "Cost at batch 110 is 1.50799\n",
      "Cost at batch 120 is 1.49315\n",
      "Cost at batch 130 is 1.47731\n",
      "Cost at batch 140 is 1.45835\n",
      "Cost at batch 150 is 1.44638\n",
      "Cost at batch 160 is 1.43209\n",
      "Cost at batch 170 is 1.42138\n",
      "Cost at batch 180 is 1.41249\n",
      "Cost at batch 190 is 1.40309\n",
      "Cost at batch 200 is 1.39264\n",
      "Cost at batch 210 is 1.38406\n",
      "Cost at batch 220 is 1.37698\n",
      "Cost at batch 230 is 1.36963\n",
      "Cost at batch 240 is 1.36177\n",
      "Cost at batch 250 is 1.35651\n",
      "Cost at batch 260 is 1.35000\n",
      "Cost at batch 270 is 1.34355\n",
      "Cost at batch 280 is 1.33792\n",
      "Cost at batch 290 is 1.33385\n",
      "Cost at batch 300 is 1.32916\n",
      "Cost at batch 310 is 1.32546\n",
      "Cost at batch 320 is 1.32036\n",
      "Cost at batch 330 is 1.31668\n",
      "Cost at batch 340 is 1.31158\n",
      "Cost at batch 350 is 1.30823\n",
      "Cost at batch 360 is 1.30490\n",
      "Cost at batch 370 is 1.30211\n",
      "Cost at batch 380 is 1.29804\n",
      "Cost at batch 390 is 1.29419\n",
      "Cost at batch 400 is 1.29201\n",
      "Cost at batch 410 is 1.28998\n",
      "Cost at batch 420 is 1.28815\n",
      "Cost at batch 430 is 1.28452\n",
      "Cost at batch 440 is 1.28251\n",
      "Cost at batch 450 is 1.27961\n",
      "Cost at batch 460 is 1.27599\n",
      "Cost at batch 470 is 1.27392\n",
      "Cost at batch 480 is 1.27147\n",
      "Cost at batch 490 is 1.26914\n",
      "Cost at batch 500 is 1.26737\n",
      "Cost at epoch 1 is 1.26737\n",
      "\n",
      "Cost at batch 10 is 1.14453\n",
      "Cost at batch 20 is 1.15566\n",
      "Cost at batch 30 is 1.14311\n",
      "Cost at batch 40 is 1.13109\n",
      "Cost at batch 50 is 1.12413\n",
      "Cost at batch 60 is 1.11963\n",
      "Cost at batch 70 is 1.12171\n",
      "Cost at batch 80 is 1.12156\n",
      "Cost at batch 90 is 1.12215\n",
      "Cost at batch 100 is 1.11694\n",
      "Cost at batch 110 is 1.11814\n",
      "Cost at batch 120 is 1.11388\n",
      "Cost at batch 130 is 1.11398\n",
      "Cost at batch 140 is 1.11336\n",
      "Cost at batch 150 is 1.11239\n",
      "Cost at batch 160 is 1.11243\n",
      "Cost at batch 170 is 1.11632\n",
      "Cost at batch 180 is 1.11771\n",
      "Cost at batch 190 is 1.12065\n",
      "Cost at batch 200 is 1.12256\n",
      "Cost at batch 210 is 1.12048\n",
      "Cost at batch 220 is 1.12118\n",
      "Cost at batch 230 is 1.12177\n",
      "Cost at batch 240 is 1.11970\n",
      "Cost at batch 250 is 1.12017\n",
      "Cost at batch 260 is 1.11826\n",
      "Cost at batch 270 is 1.11544\n",
      "Cost at batch 280 is 1.11441\n",
      "Cost at batch 290 is 1.11318\n",
      "Cost at batch 300 is 1.11450\n",
      "Cost at batch 310 is 1.11394\n",
      "Cost at batch 320 is 1.11337\n",
      "Cost at batch 330 is 1.11233\n",
      "Cost at batch 340 is 1.11186\n",
      "Cost at batch 350 is 1.10975\n",
      "Cost at batch 360 is 1.10913\n",
      "Cost at batch 370 is 1.10937\n",
      "Cost at batch 380 is 1.10910\n",
      "Cost at batch 390 is 1.10884\n",
      "Cost at batch 400 is 1.10955\n",
      "Cost at batch 410 is 1.10913\n",
      "Cost at batch 420 is 1.10906\n",
      "Cost at batch 430 is 1.10982\n",
      "Cost at batch 440 is 1.10986\n",
      "Cost at batch 450 is 1.10846\n",
      "Cost at batch 460 is 1.10798\n",
      "Cost at batch 470 is 1.10796\n",
      "Cost at batch 480 is 1.10798\n",
      "Cost at batch 490 is 1.10788\n",
      "Cost at batch 500 is 1.10704\n",
      "Cost at epoch 2 is 1.10704\n",
      "\n",
      "Training Completed!\n"
     ]
    }
   ],
   "source": [
    "for epoch in range(num_epochs):\n",
    "    losses = []\n",
    "    for batch_idx, (data, targets) in enumerate(train_loader):\n",
    "        data = data.to(device=device)\n",
    "        targets = targets.to(device=device)\n",
    "\n",
    "        scores = model(data)\n",
    "        loss = loss_function(scores, targets)\n",
    "        losses.append(loss.item())\n",
    "        optimizer.zero_grad()\n",
    "        loss.backward()\n",
    "        optimizer.step()    \n",
    "        if ((batch_idx+1)%10==0):\n",
    "            print(f'Cost at batch {batch_idx+1} is {sum(losses)/len(losses):.5f}')\n",
    "    print(f'Cost at epoch {epoch+1} is {sum(losses)/len(losses):.5f}')\n",
    "    print()\n",
    "print('Training Completed!')"
   ]
  },
  {
   "cell_type": "code",
   "execution_count": 10,
   "metadata": {},
   "outputs": [],
   "source": [
    "# Model Testing\n",
    "def check_accuracy(loader, model):\n",
    "    model.eval() # Set model into evaluation mode!\n",
    "    num_samples = 0\n",
    "    num_correct = 0\n",
    "    for data, targets in loader:\n",
    "        data = data.to(device=device)\n",
    "        targets = targets.to(device=device)\n",
    "        \n",
    "        predicted_output = model(data)\n",
    "        \n",
    "        _, prediction = predicted_output.max(1)\n",
    "        num_samples += predicted_output.size(0)\n",
    "        num_correct += (prediction==targets).sum()\n",
    "\n",
    "    print(f'Correctly identified samples: {num_correct}')\n",
    "    print(f'Total samples: {num_samples}')\n",
    "    print(f'The Validation Accuracy is {num_correct / num_samples * 100.00:.2f}')\n",
    "    model.train() # Setting model back to training data"
   ]
  },
  {
   "cell_type": "code",
   "execution_count": 11,
   "metadata": {},
   "outputs": [
    {
     "name": "stdout",
     "output_type": "stream",
     "text": [
      "Checking Accuracy on Training Data...\n",
      "Correctly identified samples: 31564\n",
      "Total samples: 50000\n",
      "The Validation Accuracy is 63.13\n",
      "\n",
      "Checking Accuracy on Testing Data...\n",
      "Correctly identified samples: 6113\n",
      "Total samples: 10000\n",
      "The Validation Accuracy is 61.13\n"
     ]
    }
   ],
   "source": [
    "print(\"Checking Accuracy on Training Data...\")\n",
    "check_accuracy(train_loader, model)\n",
    "print()\n",
    "print(\"Checking Accuracy on Testing Data...\")\n",
    "check_accuracy(test_loader, model)"
   ]
  },
  {
   "cell_type": "code",
   "execution_count": 28,
   "metadata": {},
   "outputs": [],
   "source": [
    "# Saving Trained Model\n",
    "checkpoint = {'state_dict': model.state_dict(), 'optimizer': optimizer.state_dict()}\n",
    "torch.save(checkpoint, 'Trained Models/CIFAR_10_VGG_FineTuned.pth.tar')"
   ]
  },
  {
   "cell_type": "code",
   "execution_count": 85,
   "metadata": {},
   "outputs": [
    {
     "name": "stdout",
     "output_type": "stream",
     "text": [
      "[[[108  88  62]\n",
      "  [ 67  52  35]\n",
      "  [ 58  43  30]\n",
      "  ...\n",
      "  [ 40  26  23]\n",
      "  [ 40  27  25]\n",
      "  [ 39  28  26]]\n",
      "\n",
      " [[208 187 158]\n",
      "  [162 148 129]\n",
      "  [121 109  95]\n",
      "  ...\n",
      "  [ 55  34  27]\n",
      "  [ 52  32  28]\n",
      "  [ 48  32  26]]\n",
      "\n",
      " [[188 168 157]\n",
      "  [222 212 204]\n",
      "  [238 234 226]\n",
      "  ...\n",
      "  [ 60  41  31]\n",
      "  [ 61  43  33]\n",
      "  [ 62  43  34]]\n",
      "\n",
      " ...\n",
      "\n",
      " [[ 87  68  57]\n",
      "  [ 98  77  70]\n",
      "  [105  82  73]\n",
      "  ...\n",
      "  [253 253 245]\n",
      "  [255 255 244]\n",
      "  [247 246 231]]\n",
      "\n",
      " [[ 95  72  61]\n",
      "  [102  77  68]\n",
      "  [111  84  71]\n",
      "  ...\n",
      "  [254 251 239]\n",
      "  [255 253 242]\n",
      "  [252 249 235]]\n",
      "\n",
      " [[ 99  70  59]\n",
      "  [107  77  64]\n",
      "  [122  90  71]\n",
      "  ...\n",
      "  [254 248 232]\n",
      "  [253 248 234]\n",
      "  [252 247 232]]] 4\n",
      "(32, 32, 3)\n"
     ]
    }
   ],
   "source": [
    "import random\n",
    "rand_int = random.randint(0, 50000)\n",
    "data = train_dataset.data[rand_int]\n",
    "target = train_dataset.targets[rand_int]\n",
    "print(data, target)\n",
    "print(data.shape)"
   ]
  },
  {
   "cell_type": "code",
   "execution_count": 86,
   "metadata": {},
   "outputs": [],
   "source": [
    "image_mapping = {\n",
    "    0: 'airplane', 1: 'car', 2: 'bird', 3: 'cat', 4: 'deer', 5: 'dog', 6: 'frog', 7: 'horse', 8: 'ship', 10: 'truck'\n",
    "}"
   ]
  },
  {
   "cell_type": "code",
   "execution_count": 87,
   "metadata": {},
   "outputs": [
    {
     "name": "stdout",
     "output_type": "stream",
     "text": [
      "Actual output: deer\n"
     ]
    },
    {
     "data": {
      "image/png": "[encoded data removed]",
      "text/plain": [
       "<Figure size 432x288 with 1 Axes>"
      ]
     },
     "metadata": {
      "needs_background": "light"
     },
     "output_type": "display_data"
    }
   ],
   "source": [
    "import matplotlib.pyplot as plt\n",
    "import numpy as np\n",
    "plt.imshow(data)\n",
    "print(f'Actual output: {image_mapping[target]}')"
   ]
  },
  {
   "cell_type": "code",
   "execution_count": 88,
   "metadata": {},
   "outputs": [
    {
     "name": "stdout",
     "output_type": "stream",
     "text": [
      "Predicted output: bird\n"
     ]
    }
   ],
   "source": [
    "reshaped_data = np.expand_dims(np.rollaxis(data, 2, 0), axis=0)\n",
    "# print(data.shape)\n",
    "# print(reshaped_data.shape)\n",
    "reshaped_data = reshaped_data.astype(np.float32)\n",
    "data_tensor = torch.from_numpy(reshaped_data)\n",
    "data_tensor.to(device)\n",
    "predicted_out = model(data_tensor)\n",
    "_, predicted_out = predicted_out.max(1)\n",
    "# print(predicted_out.numpy()[0])\n",
    "print(f'Predicted output: {image_mapping[predicted_out.numpy()[0]]}')"
   ]
  },
  {
   "cell_type": "code",
   "execution_count": null,
   "metadata": {},
   "outputs": [],
   "source": []
  }
 ],
 "metadata": {
  "kernelspec": {
   "display_name": "Python 3",
   "language": "python",
   "name": "python3"
  },
  "language_info": {
   "codemirror_mode": {
    "name": "ipython",
    "version": 3
   },
   "file_extension": ".py",
   "mimetype": "text/x-python",
   "name": "python",
   "nbconvert_exporter": "python",
   "pygments_lexer": "ipython3",
   "version": "3.8.5"
  }
 },
 "nbformat": 4,
 "nbformat_minor": 4
}
