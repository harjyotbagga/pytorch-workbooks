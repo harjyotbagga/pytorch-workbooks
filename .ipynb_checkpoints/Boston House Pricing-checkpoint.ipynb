{
 "cells": [
  {
   "cell_type": "code",
   "execution_count": 1,
   "metadata": {},
   "outputs": [],
   "source": [
    "from sklearn.datasets import load_boston\n",
    "boston = load_boston()"
   ]
  },
  {
   "cell_type": "code",
   "execution_count": 2,
   "metadata": {},
   "outputs": [
    {
     "name": "stdout",
     "output_type": "stream",
     "text": [
      "<class 'sklearn.utils.Bunch'>\n",
      "dict_keys(['data', 'target', 'feature_names', 'DESCR', 'filename'])\n"
     ]
    }
   ],
   "source": [
    "print(type(boston))\n",
    "print(boston.keys())"
   ]
  },
  {
   "cell_type": "code",
   "execution_count": 3,
   "metadata": {},
   "outputs": [
    {
     "name": "stdout",
     "output_type": "stream",
     "text": [
      "(506, 13)\n",
      "(506,)\n",
      "['CRIM' 'ZN' 'INDUS' 'CHAS' 'NOX' 'RM' 'AGE' 'DIS' 'RAD' 'TAX' 'PTRATIO'\n",
      " 'B' 'LSTAT']\n"
     ]
    }
   ],
   "source": [
    "print(boston.data.shape)\n",
    "print(boston.target.shape)\n",
    "print(boston.feature_names)"
   ]
  },
  {
   "cell_type": "markdown",
   "metadata": {},
   "source": [
    "_NOTE:_ 13 features & 506 Rows of data"
   ]
  },
  {
   "cell_type": "code",
   "execution_count": 4,
   "metadata": {},
   "outputs": [
    {
     "name": "stdout",
     "output_type": "stream",
     "text": [
      ".. _boston_dataset:\n",
      "\n",
      "Boston house prices dataset\n",
      "---------------------------\n",
      "\n",
      "**Data Set Characteristics:**  \n",
      "\n",
      "    :Number of Instances: 506 \n",
      "\n",
      "    :Number of Attributes: 13 numeric/categorical predictive. Median Value (attribute 14) is usually the target.\n",
      "\n",
      "    :Attribute Information (in order):\n",
      "        - CRIM     per capita crime rate by town\n",
      "        - ZN       proportion of residential land zoned for lots over 25,000 sq.ft.\n",
      "        - INDUS    proportion of non-retail business acres per town\n",
      "        - CHAS     Charles River dummy variable (= 1 if tract bounds river; 0 otherwise)\n",
      "        - NOX      nitric oxides concentration (parts per 10 million)\n",
      "        - RM       average number of rooms per dwelling\n",
      "        - AGE      proportion of owner-occupied units built prior to 1940\n",
      "        - DIS      weighted distances to five Boston employment centres\n",
      "        - RAD      index of accessibility to radial highways\n",
      "        - TAX      full-value property-tax rate per $10,000\n",
      "        - PTRATIO  pupil-teacher ratio by town\n",
      "        - B        1000(Bk - 0.63)^2 where Bk is the proportion of blacks by town\n",
      "        - LSTAT    % lower status of the population\n",
      "        - MEDV     Median value of owner-occupied homes in $1000's\n",
      "\n",
      "    :Missing Attribute Values: None\n",
      "\n",
      "    :Creator: Harrison, D. and Rubinfeld, D.L.\n",
      "\n",
      "This is a copy of UCI ML housing dataset.\n",
      "https://archive.ics.uci.edu/ml/machine-learning-databases/housing/\n",
      "\n",
      "\n",
      "This dataset was taken from the StatLib library which is maintained at Carnegie Mellon University.\n",
      "\n",
      "The Boston house-price data of Harrison, D. and Rubinfeld, D.L. 'Hedonic\n",
      "prices and the demand for clean air', J. Environ. Economics & Management,\n",
      "vol.5, 81-102, 1978.   Used in Belsley, Kuh & Welsch, 'Regression diagnostics\n",
      "...', Wiley, 1980.   N.B. Various transformations are used in the table on\n",
      "pages 244-261 of the latter.\n",
      "\n",
      "The Boston house-price data has been used in many machine learning papers that address regression\n",
      "problems.   \n",
      "     \n",
      ".. topic:: References\n",
      "\n",
      "   - Belsley, Kuh & Welsch, 'Regression diagnostics: Identifying Influential Data and Sources of Collinearity', Wiley, 1980. 244-261.\n",
      "   - Quinlan,R. (1993). Combining Instance-Based and Model-Based Learning. In Proceedings on the Tenth International Conference of Machine Learning, 236-243, University of Massachusetts, Amherst. Morgan Kaufmann.\n",
      "\n"
     ]
    }
   ],
   "source": [
    "print(boston.DESCR)"
   ]
  },
  {
   "cell_type": "code",
   "execution_count": 5,
   "metadata": {},
   "outputs": [
    {
     "name": "stdout",
     "output_type": "stream",
     "text": [
      "        0     1     2    3      4      5     6       7    8      9     10  \\\n",
      "0  0.00632  18.0  2.31  0.0  0.538  6.575  65.2  4.0900  1.0  296.0  15.3   \n",
      "1  0.02731   0.0  7.07  0.0  0.469  6.421  78.9  4.9671  2.0  242.0  17.8   \n",
      "2  0.02729   0.0  7.07  0.0  0.469  7.185  61.1  4.9671  2.0  242.0  17.8   \n",
      "3  0.03237   0.0  2.18  0.0  0.458  6.998  45.8  6.0622  3.0  222.0  18.7   \n",
      "4  0.06905   0.0  2.18  0.0  0.458  7.147  54.2  6.0622  3.0  222.0  18.7   \n",
      "\n",
      "       11    12  \n",
      "0  396.90  4.98  \n",
      "1  396.90  9.14  \n",
      "2  392.83  4.03  \n",
      "3  394.63  2.94  \n",
      "4  396.90  5.33  \n"
     ]
    }
   ],
   "source": [
    "import numpy as np\n",
    "import pandas as pd\n",
    "\n",
    "boston_df = pd.DataFrame(boston.data)\n",
    "print(boston_df.head())"
   ]
  },
  {
   "cell_type": "code",
   "execution_count": 6,
   "metadata": {},
   "outputs": [
    {
     "name": "stdout",
     "output_type": "stream",
     "text": [
      "[[6.3200e-03 1.8000e+01 2.3100e+00 0.0000e+00 5.3800e-01 6.5750e+00\n",
      "  6.5200e+01 4.0900e+00 1.0000e+00 2.9600e+02 1.5300e+01 3.9690e+02\n",
      "  4.9800e+00]\n",
      " [2.7310e-02 0.0000e+00 7.0700e+00 0.0000e+00 4.6900e-01 6.4210e+00\n",
      "  7.8900e+01 4.9671e+00 2.0000e+00 2.4200e+02 1.7800e+01 3.9690e+02\n",
      "  9.1400e+00]\n",
      " [2.7290e-02 0.0000e+00 7.0700e+00 0.0000e+00 4.6900e-01 7.1850e+00\n",
      "  6.1100e+01 4.9671e+00 2.0000e+00 2.4200e+02 1.7800e+01 3.9283e+02\n",
      "  4.0300e+00]\n",
      " [3.2370e-02 0.0000e+00 2.1800e+00 0.0000e+00 4.5800e-01 6.9980e+00\n",
      "  4.5800e+01 6.0622e+00 3.0000e+00 2.2200e+02 1.8700e+01 3.9463e+02\n",
      "  2.9400e+00]\n",
      " [6.9050e-02 0.0000e+00 2.1800e+00 0.0000e+00 4.5800e-01 7.1470e+00\n",
      "  5.4200e+01 6.0622e+00 3.0000e+00 2.2200e+02 1.8700e+01 3.9690e+02\n",
      "  5.3300e+00]]\n",
      "[24.  21.6 34.7 33.4 36.2]\n"
     ]
    }
   ],
   "source": [
    "X = np.array(boston_df, dtype=float)\n",
    "y = np.array(boston.target, dtype=float)\n",
    "\n",
    "print(X[:5])\n",
    "print(y[:5])"
   ]
  },
  {
   "cell_type": "code",
   "execution_count": 7,
   "metadata": {},
   "outputs": [],
   "source": [
    "import torch\n",
    "import torch.nn as nn\n",
    "import torch.optim as optim\n",
    "import torch.nn.functional as F\n",
    "from torch.utils.data import DataLoader"
   ]
  },
  {
   "cell_type": "code",
   "execution_count": 8,
   "metadata": {},
   "outputs": [],
   "source": [
    "class NN(nn.Module):\n",
    "    def __init__(self, num_features):\n",
    "        super(NN, self).__init__()\n",
    "        self.num_features = num_features\n",
    "        self.layer1 = nn.Linear(num_features, 16)\n",
    "        self.layer2 = nn.Linear(16, 8)\n",
    "        self.ouput_layer = nn.Linear(8, 1)\n",
    "        \n",
    "    def forward(self, x):\n",
    "        x = self.layer1(x)\n",
    "        x = self.layer2(x)\n",
    "        x = self.ouput_layer(x)\n",
    "        return x"
   ]
  },
  {
   "cell_type": "code",
   "execution_count": 9,
   "metadata": {},
   "outputs": [],
   "source": [
    "# Hyper-paramaters\n",
    "num_epochs = 40\n",
    "batch_size = 64\n",
    "learning_rate = 0.001\n",
    "num_features = 13"
   ]
  },
  {
   "cell_type": "code",
   "execution_count": 10,
   "metadata": {},
   "outputs": [
    {
     "name": "stdout",
     "output_type": "stream",
     "text": [
      "(506, 13)\n",
      "(506, 1)\n"
     ]
    }
   ],
   "source": [
    "y = y.reshape(y.shape[0], -1)\n",
    "print(X.shape)\n",
    "print(y.shape)\n",
    "dataset = np.concatenate([X, y] , axis=1)"
   ]
  },
  {
   "cell_type": "code",
   "execution_count": 11,
   "metadata": {},
   "outputs": [
    {
     "name": "stdout",
     "output_type": "stream",
     "text": [
      "torch.Size([506, 14])\n"
     ]
    }
   ],
   "source": [
    "dataset = dataset.astype(np.float32)\n",
    "dataset_tensor = torch.from_numpy(dataset)\n",
    "print(dataset_tensor.shape)"
   ]
  },
  {
   "cell_type": "code",
   "execution_count": 12,
   "metadata": {},
   "outputs": [
    {
     "name": "stdout",
     "output_type": "stream",
     "text": [
      "tensor([7.8860e-02, 8.0000e+01, 4.9500e+00, 0.0000e+00, 4.1100e-01, 7.1480e+00,\n",
      "        2.7700e+01, 5.1167e+00, 4.0000e+00, 2.4500e+02, 1.9200e+01, 3.9690e+02,\n",
      "        3.5600e+00, 3.7300e+01])\n",
      "<class 'torch.Tensor'>\n",
      "tensor([1.0960e-02, 5.5000e+01, 2.2500e+00, 0.0000e+00, 3.8900e-01, 6.4530e+00,\n",
      "        3.1900e+01, 7.3073e+00, 1.0000e+00, 3.0000e+02, 1.5300e+01, 3.9472e+02,\n",
      "        8.2300e+00, 2.2000e+01])\n",
      "<class 'torch.Tensor'>\n"
     ]
    }
   ],
   "source": [
    "from torch.utils.data import random_split\n",
    "training_data, testing_data = random_split(dataset_tensor, [400, 106])\n",
    "print(training_data[0])\n",
    "print(type(training_data[0]))\n",
    "print(testing_data[0])\n",
    "print(type(testing_data[0]))"
   ]
  },
  {
   "cell_type": "code",
   "execution_count": 13,
   "metadata": {},
   "outputs": [],
   "source": [
    "train_loader = DataLoader(dataset=training_data, batch_size=batch_size, shuffle=True)\n",
    "test_loader = DataLoader(dataset=testing_data, batch_size=batch_size, shuffle=True)"
   ]
  },
  {
   "cell_type": "code",
   "execution_count": 14,
   "metadata": {},
   "outputs": [],
   "source": [
    "model = NN(num_features=num_features)\n",
    "loss_function = nn.MSELoss(reduction='mean')\n",
    "optimizer = optim.Adam(model.parameters(), lr=learning_rate)"
   ]
  },
  {
   "cell_type": "code",
   "execution_count": 15,
   "metadata": {},
   "outputs": [
    {
     "name": "stdout",
     "output_type": "stream",
     "text": [
      "Epoch 1 completed with Loss 262.1954345703125\n",
      "\n",
      "Epoch 2 completed with Loss 227.82908630371094\n",
      "\n",
      "Epoch 3 completed with Loss 247.18991088867188\n",
      "\n",
      "Epoch 4 completed with Loss 196.7122802734375\n",
      "\n",
      "Epoch 5 completed with Loss 101.53390502929688\n",
      "\n",
      "Epoch 6 completed with Loss 148.7666015625\n",
      "\n",
      "Epoch 7 completed with Loss 55.674522399902344\n",
      "\n",
      "Epoch 8 completed with Loss 82.587646484375\n",
      "\n",
      "Epoch 9 completed with Loss 130.78280639648438\n",
      "\n",
      "Epoch 10 completed with Loss 79.36558532714844\n",
      "\n",
      "Epoch 11 completed with Loss 73.91545867919922\n",
      "\n",
      "Epoch 12 completed with Loss 63.51411819458008\n",
      "\n",
      "Epoch 13 completed with Loss 120.67007446289062\n",
      "\n",
      "Epoch 14 completed with Loss 120.11647033691406\n",
      "\n",
      "Epoch 15 completed with Loss 77.84272766113281\n",
      "\n",
      "Epoch 16 completed with Loss 76.96194458007812\n",
      "\n",
      "Epoch 17 completed with Loss 51.296260833740234\n",
      "\n",
      "Epoch 18 completed with Loss 54.709476470947266\n",
      "\n",
      "Epoch 19 completed with Loss 45.544315338134766\n",
      "\n",
      "Epoch 20 completed with Loss 119.14884185791016\n",
      "\n",
      "Epoch 21 completed with Loss 142.6781005859375\n",
      "\n",
      "Epoch 22 completed with Loss 40.29900360107422\n",
      "\n",
      "Epoch 23 completed with Loss 54.55781936645508\n",
      "\n",
      "Epoch 24 completed with Loss 20.962665557861328\n",
      "\n",
      "Epoch 25 completed with Loss 143.77151489257812\n",
      "\n",
      "Epoch 26 completed with Loss 59.565486907958984\n",
      "\n",
      "Epoch 27 completed with Loss 122.54303741455078\n",
      "\n",
      "Epoch 28 completed with Loss 100.0851821899414\n",
      "\n",
      "Epoch 29 completed with Loss 45.32297134399414\n",
      "\n",
      "Epoch 30 completed with Loss 77.31913757324219\n",
      "\n",
      "Epoch 31 completed with Loss 41.16437911987305\n",
      "\n",
      "Epoch 32 completed with Loss 137.26675415039062\n",
      "\n",
      "Epoch 33 completed with Loss 69.04605102539062\n",
      "\n",
      "Epoch 34 completed with Loss 38.51995849609375\n",
      "\n",
      "Epoch 35 completed with Loss 34.99922561645508\n",
      "\n",
      "Epoch 36 completed with Loss 83.94905090332031\n",
      "\n",
      "Epoch 37 completed with Loss 65.53901672363281\n",
      "\n",
      "Epoch 38 completed with Loss 86.30184936523438\n",
      "\n",
      "Epoch 39 completed with Loss 33.90753173828125\n",
      "\n",
      "Epoch 40 completed with Loss 95.4605484008789\n",
      "\n",
      "\n",
      "Training Completed!\n"
     ]
    }
   ],
   "source": [
    "device = torch.device('cuda' if torch.cuda.is_available() else 'cpu')\n",
    "model.train()\n",
    "\n",
    "for epoch in range(num_epochs):\n",
    "    for batch_idx, batch_data in enumerate(train_loader):\n",
    "        data, targets = (torch.split(batch_data, [13,1], dim=1))\n",
    "\n",
    "        data = data.to(device=device)\n",
    "        targets = targets.to(device=device)\n",
    "        \n",
    "        predicted_output = model(data)\n",
    "        loss = loss_function(predicted_output, targets)\n",
    "        optimizer.zero_grad()\n",
    "        loss.backward()\n",
    "        optimizer.step()\n",
    "        \n",
    "    print(f'Epoch {epoch+1} completed with Loss {loss}')\n",
    "    print()\n",
    "print()\n",
    "print(\"Training Completed!\")"
   ]
  },
  {
   "cell_type": "code",
   "execution_count": 16,
   "metadata": {},
   "outputs": [
    {
     "name": "stdout",
     "output_type": "stream",
     "text": [
      "Validation completed with Loss 68.50015258789062\n"
     ]
    }
   ],
   "source": [
    "# Checking Validation Set\n",
    "model.eval()\n",
    "for batch_idx, batch_data in enumerate(test_loader):\n",
    "    data, targets = (torch.split(batch_data, [13,1], dim=1))\n",
    "\n",
    "    data = data.to(device=device)\n",
    "    targets = targets.to(device=device)\n",
    "\n",
    "    predicted_output = model(data)\n",
    "    loss = loss_function(predicted_output, targets)\n",
    "\n",
    "print(f'Validation completed with Loss {loss}')"
   ]
  },
  {
   "cell_type": "code",
   "execution_count": 17,
   "metadata": {},
   "outputs": [
    {
     "name": "stdout",
     "output_type": "stream",
     "text": [
      "[1.4320e-02 1.0000e+02 1.3200e+00 0.0000e+00 4.1100e-01 6.8160e+00\n",
      " 4.0500e+01 8.3248e+00 5.0000e+00 2.5600e+02 1.5100e+01 3.9290e+02\n",
      " 3.9500e+00] 31.6\n"
     ]
    }
   ],
   "source": [
    "# Getting outputs from the model\n",
    "import random\n",
    "rand_int = random.randint(0,506)\n",
    "data = boston.data[rand_int]\n",
    "target = boston.target[rand_int]\n",
    "print(data, target)"
   ]
  },
  {
   "cell_type": "code",
   "execution_count": 18,
   "metadata": {},
   "outputs": [],
   "source": [
    "data = np.array(data, dtype=float)\n",
    "data = data.astype(np.float32)\n",
    "data_tensor = torch.from_numpy(data)\n",
    "data_tensor = data_tensor.to(device=device)\n",
    "predicted_output = model(data_tensor)"
   ]
  },
  {
   "cell_type": "code",
   "execution_count": 19,
   "metadata": {},
   "outputs": [
    {
     "name": "stdout",
     "output_type": "stream",
     "text": [
      "Actual Value: 31.6\n",
      "Predicted Value: 32.8724250793457\n"
     ]
    }
   ],
   "source": [
    "print(f'Actual Value: {target}')\n",
    "print(f'Predicted Value: {predicted_output[0]}')"
   ]
  },
  {
   "cell_type": "code",
   "execution_count": null,
   "metadata": {},
   "outputs": [],
   "source": []
  }
 ],
 "metadata": {
  "kernelspec": {
   "display_name": "Python 3",
   "language": "python",
   "name": "python3"
  },
  "language_info": {
   "codemirror_mode": {
    "name": "ipython",
    "version": 3
   },
   "file_extension": ".py",
   "mimetype": "text/x-python",
   "name": "python",
   "nbconvert_exporter": "python",
   "pygments_lexer": "ipython3",
   "version": "3.8.5"
  }
 },
 "nbformat": 4,
 "nbformat_minor": 4
}
