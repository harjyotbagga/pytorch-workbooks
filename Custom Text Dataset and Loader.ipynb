{
 "cells": [
  {
   "cell_type": "code",
   "execution_count": 5,
   "metadata": {},
   "outputs": [],
   "source": [
    "import os\n",
    "import pandas as pd\n",
    "import spacy\n",
    "import torch\n",
    "from torch.nn.utils.rnn import pad_sequence\n",
    "from torch.utils.data import DataLoader, Dataset\n",
    "import torchvision.transforms as transforms\n",
    "from PIL import Image"
   ]
  },
  {
   "cell_type": "code",
   "execution_count": 30,
   "metadata": {},
   "outputs": [],
   "source": [
    "tokenizer_eng = spacy.load('en_core_web_sm')\n",
    "\n",
    "class Vocabulary:\n",
    "    def __init__(self, freq_threshold):\n",
    "        self.freq_threshold = freq_threshold\n",
    "        self.itos = {0: '<PAD>', 1: '<SOS>', 2: '<EOS>', 3: '<UNK>'}\n",
    "        self.stoi = {'<PAD>': 0,'<SOS>': 1,'<EOS>': 2,'<UNK>': 3}\n",
    "        \n",
    "    def __len__(self):\n",
    "        return len(self.itos)\n",
    "    \n",
    "    def build_vocab(self, sentence_list):\n",
    "        freq = {}\n",
    "        idx = 4\n",
    "        for sentence in sentence_list:\n",
    "            for word in tokenizer_eng(sentence):\n",
    "                if word not in freq:\n",
    "                    freq[word] = 1\n",
    "                else:\n",
    "                    freq[word] += 1\n",
    "                \n",
    "                if freq[word] == self.freq_threshold:\n",
    "                    self.stoi[word] = idx\n",
    "                    self.itos[idx] = word\n",
    "                    idx += 1\n",
    "    \n",
    "    def numericalize(self, text):\n",
    "            tokenized_text = self.tokenizer_eng(text)\n",
    "            return [self.stoi[token] if token in self.stoi else self.stoi['<UNK>'] for token in tokenized_text]\n",
    "\n",
    "    @staticmethod\n",
    "    def tokenizer_eng(text):\n",
    "        return [tok.text.lower() for tok in spacy_eng.tokenizer(text)]\n"
   ]
  },
  {
   "cell_type": "code",
   "execution_count": 41,
   "metadata": {},
   "outputs": [],
   "source": [
    "class FlickrDataset(Dataset):\n",
    "    def __init__(self, root_dir, captions_file, transforms=None, freq_threshold=5):\n",
    "        self.root_dir = root_dir\n",
    "        self.df = pd.read_csv(captions_file)\n",
    "        self.transforms = transforms\n",
    "        self.freq_threshold = freq_threshold\n",
    "        \n",
    "        # Getting img and captions\n",
    "        self.imgs = self.df['image']\n",
    "        self.captions = self.df['caption']\n",
    "        \n",
    "        # Initialize & build vocab\n",
    "        self.vocab = Vocabulary(freq_threshold)\n",
    "        self.vocab.build_vocab(self.captions.tolist())\n",
    "        \n",
    "    def __len__(self):\n",
    "        return len(self.df)\n",
    "    \n",
    "    def __getitem__(self, index):\n",
    "        caption = self.captions[index]\n",
    "        img_id = self.imgs[index]\n",
    "        img = Image.open(os.path.join(self.root_dir, img_id)).convert(\"RGB\")\n",
    "        \n",
    "        if self.transforms is not None:\n",
    "            img = self.transforms(img)\n",
    "            \n",
    "        numericalized_caption = [self.vocab.stoi['<SOS>']]\n",
    "        numericalized_caption += self.vocab.numericalize(caption)\n",
    "        numericalized_caption.append(self.vocab.stoi['<EOS>'])\n",
    "        \n",
    "        return img, torch.tensor(numericalized_caption)"
   ]
  },
  {
   "cell_type": "code",
   "execution_count": 49,
   "metadata": {},
   "outputs": [],
   "source": [
    "class CollateForPadding:\n",
    "    def __init__(self, pad_idx):\n",
    "        self.pad_idx = pad_idx\n",
    "    \n",
    "    def __call__(self, batch):\n",
    "        imgs = [item[0].unsqueeze(0) for item in batch]\n",
    "        imgs = torch.cat(imgs, dim=0)\n",
    "        targets = [item[1] for item in batch]\n",
    "        targets = pad_sequence(targets, batch_first=False, padding_value=self.pad_idx)\n",
    "        return imgs, targets"
   ]
  },
  {
   "cell_type": "code",
   "execution_count": 50,
   "metadata": {},
   "outputs": [],
   "source": [
    "def get_loader(root_dir, annotation_file, transform, batch_size, num_workers, shuffle, pin_memory):\n",
    "    dataset = FlickrDataset(root_dir, annotation_file, transforms=transform)\n",
    "    pad_idx = dataset.vocab.stoi['<PAD>']\n",
    "    loader = DataLoader(\n",
    "        dataset=dataset,\n",
    "        batch_size=batch_size,\n",
    "        num_workers=num_workers,\n",
    "        shuffle=shuffle,\n",
    "        pin_memory=pin_memory,\n",
    "        collate_fn = CollateForPadding(pad_idx=pad_idx)\n",
    "    )\n",
    "    return loader\n",
    "    "
   ]
  },
  {
   "cell_type": "code",
   "execution_count": 51,
   "metadata": {},
   "outputs": [
    {
     "name": "stdout",
     "output_type": "stream",
     "text": [
      "Loader Saved Successfully!\n"
     ]
    }
   ],
   "source": [
    "transform = transforms.Compose([\n",
    "        transforms.Resize((500,500)),\n",
    "        transforms.ToTensor()\n",
    "    ])\n",
    "dataloader = get_loader(\n",
    "        root_dir='Data/flickr8k/images/',\n",
    "        annotation_file='Data/flickr8k/captions.txt',\n",
    "        transform=transform,\n",
    "        num_workers=0,\n",
    "        batch_size=32,\n",
    "        shuffle=True,\n",
    "        pin_memory=True,\n",
    "    )\n",
    "checkpoint = {'data_loader': dataloader}\n",
    "torch.save(checkpoint, 'Custom Utils/Flickr8k_Data_Loader.pth.tar')\n",
    "print(\"Loader Saved Successfully!\")\n"
   ]
  },
  {
   "cell_type": "code",
   "execution_count": 52,
   "metadata": {},
   "outputs": [
    {
     "name": "stdout",
     "output_type": "stream",
     "text": [
      "torch.Size([32, 3, 500, 500])\n",
      "torch.Size([27, 32])\n",
      "\n"
     ]
    }
   ],
   "source": [
    "for idx, (imgs, captions) in enumerate(dataloader):\n",
    "    print(imgs.shape)\n",
    "    print(captions.shape)\n",
    "    print()\n",
    "    break"
   ]
  },
  {
   "cell_type": "code",
   "execution_count": null,
   "metadata": {},
   "outputs": [],
   "source": []
  }
 ],
 "metadata": {
  "kernelspec": {
   "display_name": "Python 3",
   "language": "python",
   "name": "python3"
  },
  "language_info": {
   "codemirror_mode": {
    "name": "ipython",
    "version": 3
   },
   "file_extension": ".py",
   "mimetype": "text/x-python",
   "name": "python",
   "nbconvert_exporter": "python",
   "pygments_lexer": "ipython3",
   "version": "3.8.5"
  }
 },
 "nbformat": 4,
 "nbformat_minor": 4
}
