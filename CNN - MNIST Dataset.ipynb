{
 "cells": [
  {
   "cell_type": "code",
   "execution_count": 1,
   "metadata": {},
   "outputs": [],
   "source": [
    "import torch\n",
    "import torch.nn as nn\n",
    "import torch.nn.functional as F\n",
    "import torch.optim as optim\n",
    "from torch.utils.data import DataLoader\n",
    "import torchvision.datasets as datasets\n",
    "import torchvision.transforms as transforms"
   ]
  },
  {
   "cell_type": "code",
   "execution_count": 37,
   "metadata": {},
   "outputs": [],
   "source": [
    "device = torch.device('cpu')\n",
    "\n",
    "class NN(nn.Module):\n",
    "    def __init__(self, in_channels=1, num_classes=10):\n",
    "        super(NN, self).__init__()\n",
    "        self.conv1 = nn.Conv2d(in_channels=1, out_channels=8, kernel_size=(3,3), stride=(1,1), padding=(1,1))\n",
    "        self.pool = nn.MaxPool2d(kernel_size=(2,2), stride=(2,2))\n",
    "        self.conv2 = nn.Conv2d(in_channels=8, out_channels=16, kernel_size=(3,3), stride=(1,1), padding=(1,1))\n",
    "        self.nn_layer = nn.Linear(16*7*7, num_classes)\n",
    "        \n",
    "    def forward(self, x):\n",
    "        x = F.relu(self.conv1(x))\n",
    "        x = self.pool(x)\n",
    "        x = F.relu(self.conv2(x))\n",
    "        x = self.pool(x)\n",
    "        x = x.reshape(x.shape[0], -1)\n",
    "        x = self.nn_layer(x)\n",
    "        return x"
   ]
  },
  {
   "cell_type": "code",
   "execution_count": 38,
   "metadata": {},
   "outputs": [],
   "source": [
    "learning_rate = 0.01\n",
    "batch_size = 100\n",
    "epochs = 10\n",
    "\n",
    "model = NN(in_channels=1, num_classes=10).to(device)\n",
    "loss_function = nn.CrossEntropyLoss()\n",
    "optimizer = optim.Adam(model.parameters(), lr=learning_rate)"
   ]
  },
  {
   "cell_type": "code",
   "execution_count": 39,
   "metadata": {},
   "outputs": [],
   "source": [
    "train_dataset = datasets.MNIST(root='Data/MNIST-Dataset', train=True, transform=transforms.ToTensor(), download=True)\n",
    "train_loader = DataLoader(dataset=train_dataset, batch_size=batch_size, shuffle=True)\n",
    "test_dataset = datasets.MNIST(root='Data/MNIST-Dataset', train=False, transform=transforms.ToTensor(), download=True)\n",
    "test_loader = DataLoader(dataset=test_dataset, batch_size=batch_size, shuffle=True)"
   ]
  },
  {
   "cell_type": "code",
   "execution_count": 40,
   "metadata": {},
   "outputs": [
    {
     "name": "stdout",
     "output_type": "stream",
     "text": [
      "Batch 200: Accuracy: 91.73999786376953\n",
      "Batch 400: Accuracy: 94.19999694824219\n",
      "Batch 600: Accuracy: 95.34500122070312\n",
      "Epoch 1 completed with Accuracy 95.34500122070312\n",
      "\n",
      "Batch 200: Accuracy: 97.875\n",
      "Batch 400: Accuracy: 98.02999877929688\n",
      "Batch 600: Accuracy: 98.04499816894531\n",
      "Epoch 2 completed with Accuracy 98.04499816894531\n",
      "\n",
      "Batch 200: Accuracy: 98.47000122070312\n",
      "Batch 400: Accuracy: 98.40249633789062\n",
      "Batch 600: Accuracy: 98.37667083740234\n",
      "Epoch 3 completed with Accuracy 98.37667083740234\n",
      "\n",
      "Batch 200: Accuracy: 98.7750015258789\n",
      "Batch 400: Accuracy: 98.6875\n",
      "Batch 600: Accuracy: 98.68333435058594\n",
      "Epoch 4 completed with Accuracy 98.68333435058594\n",
      "\n",
      "Batch 200: Accuracy: 98.69999694824219\n",
      "Batch 400: Accuracy: 98.70999908447266\n",
      "Batch 600: Accuracy: 98.67666625976562\n",
      "Epoch 5 completed with Accuracy 98.67666625976562\n",
      "\n",
      "Batch 200: Accuracy: 99.17500305175781\n",
      "Batch 400: Accuracy: 98.9124984741211\n",
      "Batch 600: Accuracy: 98.81832885742188\n",
      "Epoch 6 completed with Accuracy 98.81832885742188\n",
      "\n",
      "Batch 200: Accuracy: 98.98999786376953\n",
      "Batch 400: Accuracy: 98.9375\n",
      "Batch 600: Accuracy: 98.8699951171875\n",
      "Epoch 7 completed with Accuracy 98.8699951171875\n",
      "\n",
      "Batch 200: Accuracy: 98.94499969482422\n",
      "Batch 400: Accuracy: 98.94499969482422\n",
      "Batch 600: Accuracy: 98.90999603271484\n",
      "Epoch 8 completed with Accuracy 98.90999603271484\n",
      "\n",
      "Batch 200: Accuracy: 99.11000061035156\n",
      "Batch 400: Accuracy: 99.06500244140625\n",
      "Batch 600: Accuracy: 98.98333740234375\n",
      "Epoch 9 completed with Accuracy 98.98333740234375\n",
      "\n",
      "Batch 200: Accuracy: 99.04000091552734\n",
      "Batch 400: Accuracy: 98.95750427246094\n",
      "Batch 600: Accuracy: 98.95333099365234\n",
      "Epoch 10 completed with Accuracy 98.95333099365234\n",
      "\n",
      "\n",
      "Training Completed!\n"
     ]
    }
   ],
   "source": [
    "model.train()\n",
    "\n",
    "for epoch in range(epochs):\n",
    "    num_samples = 0\n",
    "    num_correct = 0\n",
    "    for batch_idx, (data, targets) in enumerate(train_loader):\n",
    "\n",
    "        data = data.to(device=device)\n",
    "        targets = targets.to(device=device)\n",
    "        \n",
    "        predicted_output = model(data)\n",
    "        \n",
    "        _, prediction = predicted_output.max(1)\n",
    "        num_samples += predicted_output.size(0)\n",
    "        num_correct += (prediction==targets).sum()\n",
    "        \n",
    "        loss = loss_function(predicted_output, targets)\n",
    "        optimizer.zero_grad()\n",
    "        loss.backward()\n",
    "        optimizer.step()\n",
    "        \n",
    "        if ((batch_idx+1) % 200 == 0):\n",
    "            print(f'Batch {batch_idx+1}: Accuracy: {num_correct / num_samples * 100.00}')\n",
    "    print(f'Epoch {epoch+1} completed with Accuracy {num_correct / num_samples * 100.00}')\n",
    "    print()\n",
    "print()\n",
    "print(\"Training Completed!\")\n",
    "   "
   ]
  },
  {
   "cell_type": "code",
   "execution_count": 43,
   "metadata": {},
   "outputs": [],
   "source": [
    "# Model Testing\n",
    "def check_accuracy(loader, model):\n",
    "    model.eval() # Set model into evaluation mode!\n",
    "    num_samples = 0\n",
    "    num_correct = 0\n",
    "    for data, targets in loader:\n",
    "        data = data.to(device=device)\n",
    "        targets = targets.to(device=device)\n",
    "        \n",
    "        predicted_output = model(data)\n",
    "        \n",
    "        _, prediction = predicted_output.max(1)\n",
    "        num_samples += predicted_output.size(0)\n",
    "        num_correct += (prediction==targets).sum()\n",
    "\n",
    "    print(f'Correctly identified samples: {num_correct}')\n",
    "    print(f'Total samples: {num_samples}')\n",
    "    print(f'The Validation Accuracy is {num_correct / num_samples * 100.00:.2f}')\n",
    "    model.train() # Setting model back to training data"
   ]
  },
  {
   "cell_type": "code",
   "execution_count": 44,
   "metadata": {},
   "outputs": [
    {
     "name": "stdout",
     "output_type": "stream",
     "text": [
      "Checking Accuracy on Training Data...\n",
      "Correctly identified samples: 59603\n",
      "Total samples: 60000\n",
      "The Validation Accuracy is 99.34\n",
      "\n",
      "Checking Accuracy on Testing Data...\n",
      "Correctly identified samples: 9865\n",
      "Total samples: 10000\n",
      "The Validation Accuracy is 98.65\n"
     ]
    }
   ],
   "source": [
    "print(\"Checking Accuracy on Training Data...\")\n",
    "check_accuracy(train_loader, model)\n",
    "print()\n",
    "print(\"Checking Accuracy on Testing Data...\")\n",
    "check_accuracy(test_loader, model)"
   ]
  },
  {
   "cell_type": "code",
   "execution_count": null,
   "metadata": {},
   "outputs": [],
   "source": []
  }
 ],
 "metadata": {
  "kernelspec": {
   "display_name": "Python 3",
   "language": "python",
   "name": "python3"
  },
  "language_info": {
   "codemirror_mode": {
    "name": "ipython",
    "version": 3
   },
   "file_extension": ".py",
   "mimetype": "text/x-python",
   "name": "python",
   "nbconvert_exporter": "python",
   "pygments_lexer": "ipython3",
   "version": "3.8.5"
  }
 },
 "nbformat": 4,
 "nbformat_minor": 4
}
