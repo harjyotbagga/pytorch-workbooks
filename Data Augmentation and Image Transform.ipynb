{
 "cells": [
  {
   "cell_type": "code",
   "execution_count": 6,
   "metadata": {},
   "outputs": [],
   "source": [
    "import torch\n",
    "import torchvision.transforms as transforms\n",
    "from torchvision.utils import save_image\n",
    "from DogsAndCatsDataset import CatsAndDogsDataset"
   ]
  },
  {
   "cell_type": "code",
   "execution_count": 14,
   "metadata": {},
   "outputs": [],
   "source": [
    "augmentation_transform = transforms.Compose([\n",
    "    transforms.ToPILImage(),\n",
    "    transforms.Resize((300,300)),\n",
    "    transforms.ColorJitter(brightness=0.5),\n",
    "    transforms.RandomHorizontalFlip(p=0.5),\n",
    "    transforms.RandomVerticalFlip(p=0.05),\n",
    "    transforms.RandomRotation(degrees=0.5),\n",
    "    transforms.RandomGrayscale(p=0.2),\n",
    "    transforms.ToTensor(),\n",
    "])\n",
    "dataset = CatsAndDogsDataset(csv_file='Data/dogs-vs-cats/dogs-vs-cats-resized-index.csv', root_dir='Data/dogs-vs-cats/resized_data/', transform=augmentation_transform)"
   ]
  },
  {
   "cell_type": "code",
   "execution_count": 16,
   "metadata": {},
   "outputs": [],
   "source": [
    "img_num = 0\n",
    "for _ in range(20):\n",
    "    for img, label in dataset:\n",
    "        save_image(img, 'Data/dogs-vs-cats/resized_data/augmented_img_num' + str(img_num) + '.png')\n",
    "        img_num += 1"
   ]
  },
  {
   "cell_type": "code",
   "execution_count": null,
   "metadata": {},
   "outputs": [],
   "source": []
  }
 ],
 "metadata": {
  "kernelspec": {
   "display_name": "Python 3",
   "language": "python",
   "name": "python3"
  },
  "language_info": {
   "codemirror_mode": {
    "name": "ipython",
    "version": 3
   },
   "file_extension": ".py",
   "mimetype": "text/x-python",
   "name": "python",
   "nbconvert_exporter": "python",
   "pygments_lexer": "ipython3",
   "version": "3.8.5"
  }
 },
 "nbformat": 4,
 "nbformat_minor": 4
}
