{
 "cells": [
  {
   "cell_type": "code",
   "execution_count": 1,
   "metadata": {},
   "outputs": [],
   "source": [
    "from sklearn.datasets import load_boston\n",
    "boston = load_boston()"
   ]
  },
  {
   "cell_type": "code",
   "execution_count": 2,
   "metadata": {},
   "outputs": [
    {
     "name": "stdout",
     "output_type": "stream",
     "text": [
      "<class 'sklearn.utils.Bunch'>\n",
      "dict_keys(['data', 'target', 'feature_names', 'DESCR', 'filename'])\n"
     ]
    }
   ],
   "source": [
    "print(type(boston))\n",
    "print(boston.keys())"
   ]
  },
  {
   "cell_type": "code",
   "execution_count": 3,
   "metadata": {},
   "outputs": [
    {
     "name": "stdout",
     "output_type": "stream",
     "text": [
      "(506, 13)\n",
      "(506,)\n",
      "['CRIM' 'ZN' 'INDUS' 'CHAS' 'NOX' 'RM' 'AGE' 'DIS' 'RAD' 'TAX' 'PTRATIO'\n",
      " 'B' 'LSTAT']\n"
     ]
    }
   ],
   "source": [
    "print(boston.data.shape)\n",
    "print(boston.target.shape)\n",
    "print(boston.feature_names)"
   ]
  },
  {
   "cell_type": "markdown",
   "metadata": {},
   "source": [
    "_NOTE:_ 13 features & 506 Rows of data"
   ]
  },
  {
   "cell_type": "code",
   "execution_count": 4,
   "metadata": {},
   "outputs": [
    {
     "name": "stdout",
     "output_type": "stream",
     "text": [
      ".. _boston_dataset:\n",
      "\n",
      "Boston house prices dataset\n",
      "---------------------------\n",
      "\n",
      "**Data Set Characteristics:**  \n",
      "\n",
      "    :Number of Instances: 506 \n",
      "\n",
      "    :Number of Attributes: 13 numeric/categorical predictive. Median Value (attribute 14) is usually the target.\n",
      "\n",
      "    :Attribute Information (in order):\n",
      "        - CRIM     per capita crime rate by town\n",
      "        - ZN       proportion of residential land zoned for lots over 25,000 sq.ft.\n",
      "        - INDUS    proportion of non-retail business acres per town\n",
      "        - CHAS     Charles River dummy variable (= 1 if tract bounds river; 0 otherwise)\n",
      "        - NOX      nitric oxides concentration (parts per 10 million)\n",
      "        - RM       average number of rooms per dwelling\n",
      "        - AGE      proportion of owner-occupied units built prior to 1940\n",
      "        - DIS      weighted distances to five Boston employment centres\n",
      "        - RAD      index of accessibility to radial highways\n",
      "        - TAX      full-value property-tax rate per $10,000\n",
      "        - PTRATIO  pupil-teacher ratio by town\n",
      "        - B        1000(Bk - 0.63)^2 where Bk is the proportion of blacks by town\n",
      "        - LSTAT    % lower status of the population\n",
      "        - MEDV     Median value of owner-occupied homes in $1000's\n",
      "\n",
      "    :Missing Attribute Values: None\n",
      "\n",
      "    :Creator: Harrison, D. and Rubinfeld, D.L.\n",
      "\n",
      "This is a copy of UCI ML housing dataset.\n",
      "https://archive.ics.uci.edu/ml/machine-learning-databases/housing/\n",
      "\n",
      "\n",
      "This dataset was taken from the StatLib library which is maintained at Carnegie Mellon University.\n",
      "\n",
      "The Boston house-price data of Harrison, D. and Rubinfeld, D.L. 'Hedonic\n",
      "prices and the demand for clean air', J. Environ. Economics & Management,\n",
      "vol.5, 81-102, 1978.   Used in Belsley, Kuh & Welsch, 'Regression diagnostics\n",
      "...', Wiley, 1980.   N.B. Various transformations are used in the table on\n",
      "pages 244-261 of the latter.\n",
      "\n",
      "The Boston house-price data has been used in many machine learning papers that address regression\n",
      "problems.   \n",
      "     \n",
      ".. topic:: References\n",
      "\n",
      "   - Belsley, Kuh & Welsch, 'Regression diagnostics: Identifying Influential Data and Sources of Collinearity', Wiley, 1980. 244-261.\n",
      "   - Quinlan,R. (1993). Combining Instance-Based and Model-Based Learning. In Proceedings on the Tenth International Conference of Machine Learning, 236-243, University of Massachusetts, Amherst. Morgan Kaufmann.\n",
      "\n"
     ]
    }
   ],
   "source": [
    "print(boston.DESCR)"
   ]
  },
  {
   "cell_type": "code",
   "execution_count": 5,
   "metadata": {},
   "outputs": [
    {
     "name": "stdout",
     "output_type": "stream",
     "text": [
      "        0     1     2    3      4      5     6       7    8      9     10  \\\n",
      "0  0.00632  18.0  2.31  0.0  0.538  6.575  65.2  4.0900  1.0  296.0  15.3   \n",
      "1  0.02731   0.0  7.07  0.0  0.469  6.421  78.9  4.9671  2.0  242.0  17.8   \n",
      "2  0.02729   0.0  7.07  0.0  0.469  7.185  61.1  4.9671  2.0  242.0  17.8   \n",
      "3  0.03237   0.0  2.18  0.0  0.458  6.998  45.8  6.0622  3.0  222.0  18.7   \n",
      "4  0.06905   0.0  2.18  0.0  0.458  7.147  54.2  6.0622  3.0  222.0  18.7   \n",
      "\n",
      "       11    12  \n",
      "0  396.90  4.98  \n",
      "1  396.90  9.14  \n",
      "2  392.83  4.03  \n",
      "3  394.63  2.94  \n",
      "4  396.90  5.33  \n"
     ]
    }
   ],
   "source": [
    "import numpy as np\n",
    "import pandas as pd\n",
    "\n",
    "boston_df = pd.DataFrame(boston.data)\n",
    "print(boston_df.head())"
   ]
  },
  {
   "cell_type": "code",
   "execution_count": 6,
   "metadata": {},
   "outputs": [
    {
     "name": "stdout",
     "output_type": "stream",
     "text": [
      "[[6.3200e-03 1.8000e+01 2.3100e+00 0.0000e+00 5.3800e-01 6.5750e+00\n",
      "  6.5200e+01 4.0900e+00 1.0000e+00 2.9600e+02 1.5300e+01 3.9690e+02\n",
      "  4.9800e+00]\n",
      " [2.7310e-02 0.0000e+00 7.0700e+00 0.0000e+00 4.6900e-01 6.4210e+00\n",
      "  7.8900e+01 4.9671e+00 2.0000e+00 2.4200e+02 1.7800e+01 3.9690e+02\n",
      "  9.1400e+00]\n",
      " [2.7290e-02 0.0000e+00 7.0700e+00 0.0000e+00 4.6900e-01 7.1850e+00\n",
      "  6.1100e+01 4.9671e+00 2.0000e+00 2.4200e+02 1.7800e+01 3.9283e+02\n",
      "  4.0300e+00]\n",
      " [3.2370e-02 0.0000e+00 2.1800e+00 0.0000e+00 4.5800e-01 6.9980e+00\n",
      "  4.5800e+01 6.0622e+00 3.0000e+00 2.2200e+02 1.8700e+01 3.9463e+02\n",
      "  2.9400e+00]\n",
      " [6.9050e-02 0.0000e+00 2.1800e+00 0.0000e+00 4.5800e-01 7.1470e+00\n",
      "  5.4200e+01 6.0622e+00 3.0000e+00 2.2200e+02 1.8700e+01 3.9690e+02\n",
      "  5.3300e+00]]\n",
      "[24.  21.6 34.7 33.4 36.2]\n"
     ]
    }
   ],
   "source": [
    "X = np.array(boston_df, dtype=float)\n",
    "y = np.array(boston.target, dtype=float)\n",
    "\n",
    "print(X[:5])\n",
    "print(y[:5])"
   ]
  },
  {
   "cell_type": "code",
   "execution_count": 7,
   "metadata": {},
   "outputs": [],
   "source": [
    "import torch\n",
    "import torch.nn as nn\n",
    "import torch.optim as optim\n",
    "import torch.nn.functional as F\n",
    "from torch.utils.data import DataLoader"
   ]
  },
  {
   "cell_type": "code",
   "execution_count": 8,
   "metadata": {},
   "outputs": [],
   "source": [
    "class NN(nn.Module):\n",
    "    def __init__(self, num_features):\n",
    "        super(NN, self).__init__()\n",
    "        self.num_features = num_features\n",
    "        self.layer1 = nn.Linear(num_features, 16)\n",
    "        self.layer2 = nn.Linear(16, 8)\n",
    "        self.ouput_layer = nn.Linear(8, 1)\n",
    "        \n",
    "    def forward(self, x):\n",
    "        x = self.layer1(x)\n",
    "        x = self.layer2(x)\n",
    "        x = self.ouput_layer(x)\n",
    "        return x"
   ]
  },
  {
   "cell_type": "code",
   "execution_count": 9,
   "metadata": {},
   "outputs": [],
   "source": [
    "# Hyper-paramaters\n",
    "num_epochs = 40\n",
    "batch_size = 64\n",
    "learning_rate = 0.001\n",
    "num_features = 13"
   ]
  },
  {
   "cell_type": "code",
   "execution_count": 10,
   "metadata": {},
   "outputs": [
    {
     "name": "stdout",
     "output_type": "stream",
     "text": [
      "(506, 13)\n",
      "(506, 1)\n"
     ]
    }
   ],
   "source": [
    "y = y.reshape(y.shape[0], -1)\n",
    "print(X.shape)\n",
    "print(y.shape)\n",
    "dataset = np.concatenate([X, y] , axis=1)"
   ]
  },
  {
   "cell_type": "code",
   "execution_count": 11,
   "metadata": {},
   "outputs": [
    {
     "name": "stdout",
     "output_type": "stream",
     "text": [
      "torch.Size([506, 14])\n"
     ]
    }
   ],
   "source": [
    "dataset = dataset.astype(np.float32)\n",
    "dataset_tensor = torch.from_numpy(dataset)\n",
    "print(dataset_tensor.shape)"
   ]
  },
  {
   "cell_type": "code",
   "execution_count": 12,
   "metadata": {},
   "outputs": [
    {
     "name": "stdout",
     "output_type": "stream",
     "text": [
      "tensor([5.5150e-02, 3.3000e+01, 2.1800e+00, 0.0000e+00, 4.7200e-01, 7.2360e+00,\n",
      "        4.1100e+01, 4.0220e+00, 7.0000e+00, 2.2200e+02, 1.8400e+01, 3.9368e+02,\n",
      "        6.9300e+00, 3.6100e+01])\n",
      "<class 'torch.Tensor'>\n",
      "tensor([3.6150e-02, 8.0000e+01, 4.9500e+00, 0.0000e+00, 4.1100e-01, 6.6300e+00,\n",
      "        2.3400e+01, 5.1167e+00, 4.0000e+00, 2.4500e+02, 1.9200e+01, 3.9690e+02,\n",
      "        4.7000e+00, 2.7900e+01])\n",
      "<class 'torch.Tensor'>\n"
     ]
    }
   ],
   "source": [
    "from torch.utils.data import random_split\n",
    "training_data, testing_data = random_split(dataset_tensor, [400, 106])\n",
    "print(training_data[0])\n",
    "print(type(training_data[0]))\n",
    "print(testing_data[0])\n",
    "print(type(testing_data[0]))"
   ]
  },
  {
   "cell_type": "code",
   "execution_count": 13,
   "metadata": {},
   "outputs": [],
   "source": [
    "train_loader = DataLoader(dataset=training_data, batch_size=batch_size, shuffle=True)\n",
    "test_loader = DataLoader(dataset=testing_data, batch_size=batch_size, shuffle=True)"
   ]
  },
  {
   "cell_type": "code",
   "execution_count": 14,
   "metadata": {},
   "outputs": [],
   "source": [
    "model = NN(num_features=num_features)\n",
    "loss_function = nn.MSELoss(reduction='mean')\n",
    "optimizer = optim.Adam(model.parameters(), lr=learning_rate)"
   ]
  },
  {
   "cell_type": "code",
   "execution_count": 17,
   "metadata": {},
   "outputs": [
    {
     "name": "stdout",
     "output_type": "stream",
     "text": [
      "Epoch 1 completed with Loss 96.17192077636719\n",
      "\n",
      "Epoch 2 completed with Loss 51.09019088745117\n",
      "\n",
      "Epoch 3 completed with Loss 53.63617706298828\n",
      "\n",
      "Epoch 4 completed with Loss 32.03709411621094\n",
      "\n",
      "Epoch 5 completed with Loss 25.5443058013916\n",
      "\n",
      "Epoch 6 completed with Loss 47.82583999633789\n",
      "\n",
      "Epoch 7 completed with Loss 28.345806121826172\n",
      "\n",
      "Epoch 8 completed with Loss 37.25379943847656\n",
      "\n",
      "Epoch 9 completed with Loss 73.01223754882812\n",
      "\n",
      "Epoch 10 completed with Loss 37.38441467285156\n",
      "\n",
      "Epoch 11 completed with Loss 40.180885314941406\n",
      "\n",
      "Epoch 12 completed with Loss 63.965232849121094\n",
      "\n",
      "Epoch 13 completed with Loss 38.20222473144531\n",
      "\n",
      "Epoch 14 completed with Loss 123.7923355102539\n",
      "\n",
      "Epoch 15 completed with Loss 40.38772201538086\n",
      "\n",
      "Epoch 16 completed with Loss 31.257686614990234\n",
      "\n",
      "Epoch 17 completed with Loss 36.5189208984375\n",
      "\n",
      "Epoch 18 completed with Loss 78.42407989501953\n",
      "\n",
      "Epoch 19 completed with Loss 109.02842712402344\n",
      "\n",
      "Epoch 20 completed with Loss 92.76913452148438\n",
      "\n",
      "Epoch 21 completed with Loss 57.02490234375\n",
      "\n",
      "Epoch 22 completed with Loss 67.0255355834961\n",
      "\n",
      "Epoch 23 completed with Loss 56.644325256347656\n",
      "\n",
      "Epoch 24 completed with Loss 46.76333236694336\n",
      "\n",
      "Epoch 25 completed with Loss 114.11963653564453\n",
      "\n",
      "Epoch 26 completed with Loss 89.22969055175781\n",
      "\n",
      "Epoch 27 completed with Loss 37.992103576660156\n",
      "\n",
      "Epoch 28 completed with Loss 109.9444580078125\n",
      "\n",
      "Epoch 29 completed with Loss 82.35539245605469\n",
      "\n",
      "Epoch 30 completed with Loss 91.98982238769531\n",
      "\n",
      "Epoch 31 completed with Loss 60.713172912597656\n",
      "\n",
      "Epoch 32 completed with Loss 32.751285552978516\n",
      "\n",
      "Epoch 33 completed with Loss 18.37061309814453\n",
      "\n",
      "Epoch 34 completed with Loss 62.75124740600586\n",
      "\n",
      "Epoch 35 completed with Loss 63.690086364746094\n",
      "\n",
      "Epoch 36 completed with Loss 50.511619567871094\n",
      "\n",
      "Epoch 37 completed with Loss 113.42206573486328\n",
      "\n",
      "Epoch 38 completed with Loss 23.69827651977539\n",
      "\n",
      "Epoch 39 completed with Loss 89.99070739746094\n",
      "\n",
      "Epoch 40 completed with Loss 71.00213623046875\n",
      "\n",
      "\n",
      "Training Completed!\n",
      "Model Saved Successfully!\n"
     ]
    }
   ],
   "source": [
    "device = torch.device('cuda' if torch.cuda.is_available() else 'cpu')\n",
    "model.train()\n",
    "\n",
    "for epoch in range(num_epochs):        \n",
    "    for batch_idx, batch_data in enumerate(train_loader):\n",
    "        data, targets = (torch.split(batch_data, [13,1], dim=1))\n",
    "\n",
    "        data = data.to(device=device)\n",
    "        targets = targets.to(device=device)\n",
    "        \n",
    "        predicted_output = model(data)\n",
    "        loss = loss_function(predicted_output, targets)\n",
    "        optimizer.zero_grad()\n",
    "        loss.backward()\n",
    "        optimizer.step()\n",
    "        \n",
    "    print(f'Epoch {epoch+1} completed with Loss {loss}')\n",
    "    print()\n",
    "print()\n",
    "print(\"Training Completed!\")\n",
    "# Saving Trained Model\n",
    "checkpoint = {'state_dict': model.state_dict(), 'optimizer': optimizer.state_dict()}\n",
    "torch.save(checkpoint, 'Trained Models/Boston_House_Pricing.pth.tar')\n",
    "print(\"Model Saved Successfully!\")"
   ]
  },
  {
   "cell_type": "code",
   "execution_count": 18,
   "metadata": {},
   "outputs": [
    {
     "name": "stdout",
     "output_type": "stream",
     "text": [
      "Validation completed with Loss 50.16023254394531\n"
     ]
    }
   ],
   "source": [
    "# Checking Validation Set\n",
    "model.eval()\n",
    "for batch_idx, batch_data in enumerate(test_loader):\n",
    "    data, targets = (torch.split(batch_data, [13,1], dim=1))\n",
    "\n",
    "    data = data.to(device=device)\n",
    "    targets = targets.to(device=device)\n",
    "\n",
    "    predicted_output = model(data)\n",
    "    loss = loss_function(predicted_output, targets)\n",
    "\n",
    "print(f'Validation completed with Loss {loss}')"
   ]
  },
  {
   "cell_type": "code",
   "execution_count": 19,
   "metadata": {},
   "outputs": [
    {
     "name": "stdout",
     "output_type": "stream",
     "text": [
      "[  0.85204   0.        8.14      0.        0.538     5.965    89.2\n",
      "   4.0123    4.      307.       21.      392.53     13.83   ] 19.6\n"
     ]
    }
   ],
   "source": [
    "# Getting outputs from the model\n",
    "import random\n",
    "rand_int = random.randint(0,506)\n",
    "data = boston.data[rand_int]\n",
    "target = boston.target[rand_int]\n",
    "print(data, target)"
   ]
  },
  {
   "cell_type": "code",
   "execution_count": 20,
   "metadata": {},
   "outputs": [],
   "source": [
    "data = np.array(data, dtype=float)\n",
    "data = data.astype(np.float32)\n",
    "data_tensor = torch.from_numpy(data)\n",
    "data_tensor = data_tensor.to(device=device)\n",
    "predicted_output = model(data_tensor)"
   ]
  },
  {
   "cell_type": "code",
   "execution_count": 21,
   "metadata": {},
   "outputs": [
    {
     "name": "stdout",
     "output_type": "stream",
     "text": [
      "Actual Value: 19.6\n",
      "Predicted Value: 22.980344772338867\n"
     ]
    }
   ],
   "source": [
    "print(f'Actual Value: {target}')\n",
    "print(f'Predicted Value: {predicted_output[0]}')"
   ]
  },
  {
   "cell_type": "code",
   "execution_count": 24,
   "metadata": {},
   "outputs": [],
   "source": [
    "# Loading Checkpoint\n",
    "saved_model = torch.load('Trained Models/Boston_House_Pricing.pth.tar')\n",
    "model.load_state_dict(saved_model['state_dict'])\n",
    "optimizer.load_state_dict(saved_model['optimizer'])"
   ]
  },
  {
   "cell_type": "code",
   "execution_count": 25,
   "metadata": {},
   "outputs": [
    {
     "name": "stdout",
     "output_type": "stream",
     "text": [
      "Actual Value: 14.1\n",
      "Predicted Value: 7.417234420776367\n"
     ]
    }
   ],
   "source": [
    "rand_int = random.randint(0,506)\n",
    "data = boston.data[rand_int]\n",
    "target = boston.target[rand_int]\n",
    "data = np.array(data, dtype=float)\n",
    "data = data.astype(np.float32)\n",
    "data_tensor = torch.from_numpy(data)\n",
    "data_tensor = data_tensor.to(device=device)\n",
    "predicted_output = model(data_tensor)\n",
    "print(f'Actual Value: {target}')\n",
    "print(f'Predicted Value: {predicted_output[0]}')"
   ]
  },
  {
   "cell_type": "code",
   "execution_count": null,
   "metadata": {},
   "outputs": [],
   "source": []
  }
 ],
 "metadata": {
  "kernelspec": {
   "display_name": "Python 3",
   "language": "python",
   "name": "python3"
  },
  "language_info": {
   "codemirror_mode": {
    "name": "ipython",
    "version": 3
   },
   "file_extension": ".py",
   "mimetype": "text/x-python",
   "name": "python",
   "nbconvert_exporter": "python",
   "pygments_lexer": "ipython3",
   "version": "3.8.5"
  }
 },
 "nbformat": 4,
 "nbformat_minor": 4
}
